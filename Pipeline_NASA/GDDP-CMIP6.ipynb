{
  "nbformat": 4,
  "nbformat_minor": 0,
  "metadata": {
    "colab": {
      "provenance": [],
      "authorship_tag": "ABX9TyMHLEugrEfCg7xLc2VR9dq9",
      "include_colab_link": true
    },
    "kernelspec": {
      "name": "python3",
      "display_name": "Python 3"
    },
    "language_info": {
      "name": "python"
    }
  },
  "cells": [
    {
      "cell_type": "markdown",
      "metadata": {
        "id": "view-in-github",
        "colab_type": "text"
      },
      "source": [
        "<a href=\"https://colab.research.google.com/github/AndreHadjiThomas/54247538/blob/main/Pipeline_NASA/GDDP-CMIP6.ipynb\" target=\"_parent\"><img src=\"https://colab.research.google.com/assets/colab-badge.svg\" alt=\"Open In Colab\"/></a>"
      ]
    },
    {
      "cell_type": "code",
      "execution_count": 52,
      "metadata": {
        "colab": {
          "base_uri": "https://localhost:8080/"
        },
        "id": "JgcqZk9B9Hay",
        "outputId": "a2c56060-7b78-4d5f-ae90-d8e66181f5c2"
      },
      "outputs": [
        {
          "output_type": "stream",
          "name": "stdout",
          "text": [
            "Requirement already satisfied: earthengine-api in /usr/local/lib/python3.10/dist-packages (1.0.0)\n",
            "Requirement already satisfied: google-cloud-storage in /usr/local/lib/python3.10/dist-packages (from earthengine-api) (2.8.0)\n",
            "Requirement already satisfied: google-api-python-client>=1.12.1 in /usr/local/lib/python3.10/dist-packages (from earthengine-api) (2.137.0)\n",
            "Requirement already satisfied: google-auth>=1.4.1 in /usr/local/lib/python3.10/dist-packages (from earthengine-api) (2.27.0)\n",
            "Requirement already satisfied: google-auth-httplib2>=0.0.3 in /usr/local/lib/python3.10/dist-packages (from earthengine-api) (0.2.0)\n",
            "Requirement already satisfied: httplib2<1dev,>=0.9.2 in /usr/local/lib/python3.10/dist-packages (from earthengine-api) (0.22.0)\n",
            "Requirement already satisfied: requests in /usr/local/lib/python3.10/dist-packages (from earthengine-api) (2.32.3)\n",
            "Requirement already satisfied: google-api-core!=2.0.*,!=2.1.*,!=2.2.*,!=2.3.0,<3.0.0.dev0,>=1.31.5 in /usr/local/lib/python3.10/dist-packages (from google-api-python-client>=1.12.1->earthengine-api) (2.19.2)\n",
            "Requirement already satisfied: uritemplate<5,>=3.0.1 in /usr/local/lib/python3.10/dist-packages (from google-api-python-client>=1.12.1->earthengine-api) (4.1.1)\n",
            "Requirement already satisfied: cachetools<6.0,>=2.0.0 in /usr/local/lib/python3.10/dist-packages (from google-auth>=1.4.1->earthengine-api) (5.5.0)\n",
            "Requirement already satisfied: pyasn1-modules>=0.2.1 in /usr/local/lib/python3.10/dist-packages (from google-auth>=1.4.1->earthengine-api) (0.4.1)\n",
            "Requirement already satisfied: rsa<5,>=3.1.4 in /usr/local/lib/python3.10/dist-packages (from google-auth>=1.4.1->earthengine-api) (4.9)\n",
            "Requirement already satisfied: pyparsing!=3.0.0,!=3.0.1,!=3.0.2,!=3.0.3,<4,>=2.4.2 in /usr/local/lib/python3.10/dist-packages (from httplib2<1dev,>=0.9.2->earthengine-api) (3.1.4)\n",
            "Requirement already satisfied: google-cloud-core<3.0dev,>=2.3.0 in /usr/local/lib/python3.10/dist-packages (from google-cloud-storage->earthengine-api) (2.4.1)\n",
            "Requirement already satisfied: google-resumable-media>=2.3.2 in /usr/local/lib/python3.10/dist-packages (from google-cloud-storage->earthengine-api) (2.7.2)\n",
            "Requirement already satisfied: charset-normalizer<4,>=2 in /usr/local/lib/python3.10/dist-packages (from requests->earthengine-api) (3.3.2)\n",
            "Requirement already satisfied: idna<4,>=2.5 in /usr/local/lib/python3.10/dist-packages (from requests->earthengine-api) (3.10)\n",
            "Requirement already satisfied: urllib3<3,>=1.21.1 in /usr/local/lib/python3.10/dist-packages (from requests->earthengine-api) (2.0.7)\n",
            "Requirement already satisfied: certifi>=2017.4.17 in /usr/local/lib/python3.10/dist-packages (from requests->earthengine-api) (2024.8.30)\n",
            "Requirement already satisfied: googleapis-common-protos<2.0.dev0,>=1.56.2 in /usr/local/lib/python3.10/dist-packages (from google-api-core!=2.0.*,!=2.1.*,!=2.2.*,!=2.3.0,<3.0.0.dev0,>=1.31.5->google-api-python-client>=1.12.1->earthengine-api) (1.65.0)\n",
            "Requirement already satisfied: protobuf!=3.20.0,!=3.20.1,!=4.21.0,!=4.21.1,!=4.21.2,!=4.21.3,!=4.21.4,!=4.21.5,<6.0.0.dev0,>=3.19.5 in /usr/local/lib/python3.10/dist-packages (from google-api-core!=2.0.*,!=2.1.*,!=2.2.*,!=2.3.0,<3.0.0.dev0,>=1.31.5->google-api-python-client>=1.12.1->earthengine-api) (3.20.3)\n",
            "Requirement already satisfied: proto-plus<2.0.0dev,>=1.22.3 in /usr/local/lib/python3.10/dist-packages (from google-api-core!=2.0.*,!=2.1.*,!=2.2.*,!=2.3.0,<3.0.0.dev0,>=1.31.5->google-api-python-client>=1.12.1->earthengine-api) (1.24.0)\n",
            "Requirement already satisfied: google-crc32c<2.0dev,>=1.0 in /usr/local/lib/python3.10/dist-packages (from google-resumable-media>=2.3.2->google-cloud-storage->earthengine-api) (1.6.0)\n",
            "Requirement already satisfied: pyasn1<0.7.0,>=0.4.6 in /usr/local/lib/python3.10/dist-packages (from pyasn1-modules>=0.2.1->google-auth>=1.4.1->earthengine-api) (0.6.1)\n"
          ]
        }
      ],
      "source": [
        "pip install earthengine-api"
      ]
    },
    {
      "cell_type": "code",
      "source": [
        "pip install rasterio"
      ],
      "metadata": {
        "colab": {
          "base_uri": "https://localhost:8080/"
        },
        "id": "2C6gcNkNEnUt",
        "outputId": "d5454c76-3cc8-4654-812c-1d3a73feaa10"
      },
      "execution_count": 69,
      "outputs": [
        {
          "output_type": "stream",
          "name": "stdout",
          "text": [
            "Requirement already satisfied: rasterio in /usr/local/lib/python3.10/dist-packages (1.3.11)\n",
            "Requirement already satisfied: affine in /usr/local/lib/python3.10/dist-packages (from rasterio) (2.4.0)\n",
            "Requirement already satisfied: attrs in /usr/local/lib/python3.10/dist-packages (from rasterio) (24.2.0)\n",
            "Requirement already satisfied: certifi in /usr/local/lib/python3.10/dist-packages (from rasterio) (2024.8.30)\n",
            "Requirement already satisfied: click>=4.0 in /usr/local/lib/python3.10/dist-packages (from rasterio) (8.1.7)\n",
            "Requirement already satisfied: cligj>=0.5 in /usr/local/lib/python3.10/dist-packages (from rasterio) (0.7.2)\n",
            "Requirement already satisfied: numpy in /usr/local/lib/python3.10/dist-packages (from rasterio) (1.26.4)\n",
            "Requirement already satisfied: snuggs>=1.4.1 in /usr/local/lib/python3.10/dist-packages (from rasterio) (1.4.7)\n",
            "Requirement already satisfied: click-plugins in /usr/local/lib/python3.10/dist-packages (from rasterio) (1.1.1)\n",
            "Requirement already satisfied: setuptools in /usr/local/lib/python3.10/dist-packages (from rasterio) (71.0.4)\n",
            "Requirement already satisfied: pyparsing>=2.1.6 in /usr/local/lib/python3.10/dist-packages (from snuggs>=1.4.1->rasterio) (3.1.4)\n"
          ]
        }
      ]
    },
    {
      "cell_type": "code",
      "source": [
        "import ee\n",
        "from google.colab import auth\n",
        "auth.authenticate_user()  # Authenticate with your Google account\n",
        "ee.Initialize(project='ultimate-result-436120-p8')           # Initialize Earth Engine"
      ],
      "metadata": {
        "id": "XMV-rl7p-mlS"
      },
      "execution_count": 58,
      "outputs": []
    },
    {
      "cell_type": "code",
      "source": [
        "# Define the boundary box for Montreal region\n",
        "boundary_box = ee.Geometry.Rectangle([-74.0, 45.3, -73.4, 45.7])\n",
        "\n",
        "# Define the ImageCollection for NEX-GDDP-CMIP6 filtered by CanESM5 model and SSP245 scenario\n",
        "dataset = ee.ImageCollection('NASA/GDDP-CMIP6') \\\n",
        "    .filter(ee.Filter.date('2016-01-01', '2100-12-31')) \\\n",
        "    .filter(ee.Filter.eq('model', 'CanESM5')) \\\n",
        "    .filter(ee.Filter.eq('scenario', 'ssp245'))\n",
        "\n",
        "# Select the variables: tasmax, tasmin, and pr\n",
        "tasmax = dataset.select('tasmax')  # Maximum temperature\n",
        "tasmin = dataset.select('tasmin')  # Minimum temperature\n",
        "precipitation = dataset.select('pr')  # Precipitation\n",
        "\n",
        "# Calculate the mean for each variable\n",
        "tasmax_mean = tasmax.mean()\n",
        "tasmin_mean = tasmin.mean()\n",
        "precipitation_mean = precipitation.mean()\n",
        "\n",
        "# Export tasmax (maximum temperature) to Google Drive\n",
        "task_tasmax = ee.batch.Export.image.toDrive(\n",
        "    image=tasmax_mean,\n",
        "    description='NEX_GDDP_CMIP6_Tasmax_CanESM5_SSP245',\n",
        "    fileFormat='GeoTIFF',\n",
        "    region=boundary_box,\n",
        "    scale=10000\n",
        ")\n",
        "task_tasmax.start()\n",
        "\n",
        "# Export tasmin (minimum temperature) to Google Drive\n",
        "task_tasmin = ee.batch.Export.image.toDrive(\n",
        "    image=tasmin_mean,\n",
        "    description='NEX_GDDP_CMIP6_Tasmin_CanESM5_SSP245',\n",
        "    fileFormat='GeoTIFF',\n",
        "    region=boundary_box,\n",
        "    scale=10000\n",
        ")\n",
        "task_tasmin.start()\n",
        "\n",
        "# Export pr (precipitation) to Google Drive\n",
        "task_pr = ee.batch.Export.image.toDrive(\n",
        "    image=precipitation_mean,\n",
        "    description='NEX_GDDP_CMIP6_Precipitation_CanESM5_SSP245',\n",
        "    fileFormat='GeoTIFF',\n",
        "    region=boundary_box,\n",
        "    scale=10000\n",
        ")\n",
        "task_pr.start()\n",
        "\n",
        "print(\"Exporting tasmax, tasmin, and precipitation to Google Drive...\")\n",
        "\n"
      ],
      "metadata": {
        "colab": {
          "base_uri": "https://localhost:8080/"
        },
        "id": "b4bFNxdtBj0H",
        "outputId": "2a417b93-bbc9-4745-ee40-08abff68e3c4"
      },
      "execution_count": 56,
      "outputs": [
        {
          "output_type": "stream",
          "name": "stdout",
          "text": [
            "Exporting tasmax, tasmin, and precipitation to Google Drive...\n"
          ]
        }
      ]
    },
    {
      "cell_type": "code",
      "source": [
        "import rasterio\n",
        "import xarray as xr\n",
        "import numpy as np\n",
        "\n",
        "# Define paths to the GeoTIFF files in your Google Drive\n",
        "tasmax_path = '/content/drive/MyDrive/NEX_GDDP_CMIP6_Tasmax_CanESM5_SSP245.tif'\n",
        "tasmin_path = '/content/drive/MyDrive/NEX_GDDP_CMIP6_Tasmin_CanESM5_SSP245.tif'\n",
        "precip_path = '/content/drive/MyDrive/NEX_GDDP_CMIP6_Precipitation_CanESM5_SSP245.tif'\n",
        "\n",
        "# Convert each GeoTIFF to NetCDF\n",
        "def geotiff_to_netcdf(tiff_path, netcdf_path):\n",
        "    with rasterio.open(tiff_path) as src:\n",
        "        array = src.read(1)  # Read the first band (e.g., temperature or precipitation data)\n",
        "\n",
        "        # Get the coordinates of the array using the affine transformation\n",
        "        transform = src.transform\n",
        "        ny, nx = array.shape\n",
        "        x_coords, y_coords = np.meshgrid(np.arange(nx), np.arange(ny))\n",
        "        lon, lat = rasterio.transform.xy(transform, y_coords, x_coords)\n",
        "\n",
        "        # Convert to numpy arrays\n",
        "        lon = np.array(lon)\n",
        "        lat = np.array(lat)\n",
        "\n",
        "    # Create an xarray DataArray and convert it to NetCDF\n",
        "    data = xr.DataArray(array, dims=['lat', 'lon'], coords={'lat': lat[:,0], 'lon': lon[0,:]})\n",
        "    data.to_netcdf(netcdf_path)\n",
        "\n",
        "# Convert tasmax to NetCDF\n",
        "geotiff_to_netcdf(tasmax_path, '/content/drive/MyDrive/NEX_GDDP_CMIP6_Tasmax_CanESM5_SSP245.nc')\n",
        "\n",
        "# Convert tasmin to NetCDF\n",
        "geotiff_to_netcdf(tasmin_path, '/content/drive/MyDrive/NEX_GDDP_CMIP6_Tasmin_CanESM5_SSP245.nc')\n",
        "\n",
        "# Convert precipitation to NetCDF\n",
        "geotiff_to_netcdf(precip_path, '/content/drive/MyDrive/NEX_GDDP_CMIP6_Precipitation_CanESM5_SSP245.nc')\n"
      ],
      "metadata": {
        "id": "Id6MCQUlCJ0T"
      },
      "execution_count": 70,
      "outputs": []
    },
    {
      "cell_type": "code",
      "source": [
        "import xarray as xr\n",
        "\n",
        "# Open the NetCDF file\n",
        "ds = xr.open_dataset('/content/drive/MyDrive/NEX_GDDP_CMIP6_Tasmax_CanESM5_SSP245.nc')\n",
        "\n",
        "# Inspect the dataset\n",
        "#xr.set_options(display_max_rows=100)  # Set the maximum number of rows to display\n",
        "print(ds)"
      ],
      "metadata": {
        "colab": {
          "base_uri": "https://localhost:8080/"
        },
        "id": "XX0ykG-OC9Q3",
        "outputId": "81d21a32-2666-48b3-a97a-dc8f3f906fc4"
      },
      "execution_count": 71,
      "outputs": [
        {
          "output_type": "stream",
          "name": "stdout",
          "text": [
            "<xarray.Dataset> Size: 236B\n",
            "Dimensions:                        (lon: 7, lat: 5)\n",
            "Coordinates:\n",
            "  * lon                            (lon) float64 56B -73.98 -73.89 ... -73.44\n",
            "  * lat                            (lat) float64 40B 45.68 45.59 ... 45.41 45.32\n",
            "Data variables:\n",
            "    __xarray_dataarray_variable__  (lat, lon) float32 140B ...\n"
          ]
        }
      ]
    },
    {
      "cell_type": "code",
      "source": [
        "print(ds['__xarray_dataarray_variable__'].values)"
      ],
      "metadata": {
        "colab": {
          "base_uri": "https://localhost:8080/"
        },
        "id": "g0Vg7ea5DlC2",
        "outputId": "b7d157d1-8158-41e1-bbc2-bd7f109acfc7"
      },
      "execution_count": 67,
      "outputs": [
        {
          "output_type": "stream",
          "name": "stdout",
          "text": [
            "[[288.19672 288.19672 288.19672 288.1335  288.1335  288.1335  287.95883]\n",
            " [288.19672 288.19672 288.19672 288.1335  288.1335  288.1335  287.95883]\n",
            " [288.27167 288.27167 288.27167 288.22522 288.22522 288.22522 288.22787]\n",
            " [288.27167 288.27167 288.27167 288.22522 288.22522 288.22522 288.22787]\n",
            " [288.27167 288.27167 288.27167 288.22522 288.22522 288.22522 288.22787]]\n"
          ]
        }
      ]
    }
  ]
}